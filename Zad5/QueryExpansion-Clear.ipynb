{
 "cells": [
  {
   "cell_type": "markdown",
   "metadata": {},
   "source": [
    "# Query Expansion"
   ]
  },
  {
   "cell_type": "markdown",
   "metadata": {},
   "source": [
    "0) Just some imports"
   ]
  },
  {
   "cell_type": "code",
   "execution_count": 68,
   "metadata": {},
   "outputs": [],
   "source": [
    "import re\n",
    "import math\n",
    "import numpy as np\n",
    "import common as cm"
   ]
  },
  {
   "cell_type": "markdown",
   "metadata": {},
   "source": [
    "# 1) Simple search engine"
   ]
  },
  {
   "cell_type": "markdown",
   "metadata": {},
   "source": [
    "1.1) Get acquainted with the below class. There are several TODOs. However, DO NOT complete them now. "
   ]
  },
  {
   "cell_type": "code",
   "execution_count": 94,
   "metadata": {},
   "outputs": [
    {
     "name": "stdout",
     "output_type": "stream",
     "text": [
      "['aaai', 'about', 'academic', 'access', 'acquired', 'acquisition', 'action', 'activity', 'actual', 'adaptive', 'add', 'advance', 'agricultural', 'aha', 'aim', 'alert', 'algorithm', 'all', 'analysis', 'and', 'announcement', 'answer', 'anyone', 'application', 'applied', 'apply', 'applying', 'approach', 'approache', 'april', 'archive', 'are', 'area', 'areas', 'article', 'artificial', 'asked', 'august', 'author', 'automated', 'automatically', 'autonomous', 'available', 'awards', 'backend', 'backgammon', 'baldi', 'based', 'basic', 'bayesian']\n"
     ]
    }
   ],
   "source": [
    "class Dictionary:\n",
    "    def __init__(self):\n",
    "        ### keeps unique terms (SORTED!)\n",
    "        self.terms = self.loadTerms(\"terms.txt\")\n",
    "        self.idfs = [] ### IDF coefficients\n",
    "        self.corM = [] ### a correlation matrix\n",
    "\n",
    "    ### load terms\n",
    "    def loadTerms(self, fileName):\n",
    "        file = open(fileName,'r', encoding='utf-8-sig')\n",
    "        k = [self.proc(s) for s in file.readlines()]\n",
    "        k.sort()\n",
    "        return k\n",
    "\n",
    "    ### ignore it\n",
    "    def proc(self, s):\n",
    "        if s[-1] == '\\n': return s[:-1]\n",
    "        else: return s\n",
    "    \n",
    "    ### TODO (DO NOT FINISH THIS METHOD YET. YOU WILL BE ASKED FOR IT LATER) \n",
    "    def computeIDFs(self, documents):\n",
    "        self.idfs = []\n",
    "        \n",
    "        #moj kod\n",
    "        base = len(documents)\n",
    "        for term in self.terms:\n",
    "            x = 0.0\n",
    "            for document in documents:\n",
    "                if term in document.bow:\n",
    "                    x += 1.0\n",
    "            if x==0:\n",
    "                x = 1\n",
    "            myLog = math.log(base/x, base)\n",
    "            self.idfs.append(myLog)\n",
    "    \n",
    "    ### TODO (DO NOT FINISH THIS METHOD YET. YOU WILL BE ASKED FOR IT LATER) \n",
    "    def computeCorM(self, documents):\n",
    "        self.corM = np.zeros((len(self.terms), len(documents)))\n",
    "        t = []\n",
    "        \n",
    "        for i, term in enumerate(self.terms):\n",
    "            for j, document in enumerate(documents):\n",
    "                self.corM[i][j] = document.bow[i]\n",
    "            t.append(sum(self.corM[i]))\n",
    "            \n",
    "        for i, term in enumerate(self.terms):\n",
    "            for j, document in enumerate(documents):\n",
    "                self.corM[i][j] = self.corM[i][j] / t[i]\n",
    "        transpose = np.transpose(self.corM)\n",
    "        \n",
    "        self.corM = np.dot(self.corM, transpose)\n",
    "        \n",
    "        for i in range(len(self.corM)):\n",
    "            self.corM[i][i] = -1\n",
    "        \n",
    "                        \n",
    "        \n",
    "\n",
    "### SOME DEBUG\n",
    "dictionary = Dictionary()\n",
    "print(dictionary.terms[:50])"
   ]
  },
  {
   "cell_type": "markdown",
   "metadata": {},
   "source": [
    "1.2) Load files: here we load some example collection of documents. RAW_DOCUMENTS = just strings. Check if the documents are loaded correctly (e.g., print RAW_DOCUMENTS[0])"
   ]
  },
  {
   "cell_type": "code",
   "execution_count": 95,
   "metadata": {},
   "outputs": [
    {
     "name": "stdout",
     "output_type": "stream",
     "text": [
      "David W. Aha:  Machine Learning Page\n",
      " Machine Learning Resources. Suggestions welcome. ... (WizRule); ZDM Scientific\n",
      " Ltd. Conference Announcements. Courses on Machine Learning. Data Repositories. ... \n",
      " Description: Comprehensive machine learning resources from Applications to Tutorials.\n",
      "\n"
     ]
    }
   ],
   "source": [
    "RAW_DOCUMENTS = cm.loadDocuments(\"documents.txt\")\n",
    "### SOME DEBUG\n",
    "print(RAW_DOCUMENTS[0])"
   ]
  },
  {
   "cell_type": "code",
   "execution_count": 96,
   "metadata": {},
   "outputs": [
    {
     "name": "stdout",
     "output_type": "stream",
     "text": [
      "['david', 'aha', 'machine', 'learning', 'page', 'machine', 'learning', 'resource', 'suggestion', 'welcome', 'wizrule', 'zdm', 'scientific', 'ltd', 'conference', 'announcement', 'course', 'machine', 'learning', 'data', 'repository', 'description', 'comprehensive', 'machine', 'learning', 'resource', 'from', 'application', 'tutorials']\n"
     ]
    }
   ],
   "source": [
    "### SOME DEBUG, JUST RUN; check if (a) common.py is imported correctly and (b) \n",
    "### tokens are correctly derived from some document (e.g., RAW_DOCUMENTS[0])\n",
    "print(cm.simpleTextProcessing(RAW_DOCUMENTS[0], re))"
   ]
  },
  {
   "cell_type": "markdown",
   "metadata": {},
   "source": [
    "1.3) Get acquainted with the below class. "
   ]
  },
  {
   "cell_type": "code",
   "execution_count": 97,
   "metadata": {},
   "outputs": [],
   "source": [
    "class Document:\n",
    "    def __init__(self, doc_id, raw_document, dictionary):\n",
    "        self.doc_id = doc_id ### DOC ID, simply 0,1,2,3....\n",
    "        self.raw_document = raw_document ### raw data, i.e., string data\n",
    "        self.dictionary = dictionary # reference to the dictionary\n",
    "        \n",
    "        ### DOCUMENT REPRESENTATIONS\n",
    "        self.tokens = cm.simpleTextProcessing(raw_document, re) ### get terms\n",
    "        self.bow = [] # Bag Of Words (BOW - number of term occurences)\n",
    "        self.tf = [] # TF representation\n",
    "        self.tf_idf = [] # TF-IDF representation\n",
    "\n",
    "    ### TODO - complete this method; it should compute a BOW representation\n",
    "    def computeBOW_Representation(self):\n",
    "        self.bow = []\n",
    "        \n",
    "        #ilosc wystapien danego termu - przejsc po termach i spr ile razy wystepuje w dokumencie? długie, ale powinno działać?\n",
    "        if self.dictionary.terms != None:\n",
    "            for index, term in enumerate(self.dictionary.terms):\n",
    "                self.bow.append(0)      #jak nie zadziala to tu append zrobic\n",
    "                for elem in self.tokens:\n",
    "                    if (elem == term):\n",
    "                        self.bow[index] += 1\n",
    "       \n",
    "    \n",
    "    \n",
    "    ### TODO - complete this method; it should compute a TF representation\n",
    "    def computeTF_Representation(self):\n",
    "        self.tf = []\n",
    "        \n",
    "        #wystarczy max z termow i normalizacja przez to?\n",
    "        myMax = 1\n",
    "        for elem in self.bow:\n",
    "            if (elem >= myMax):\n",
    "                myMax = elem\n",
    "        \n",
    "        for elem in self.bow:\n",
    "            self.tf.append(elem / myMax)\n",
    "        \n",
    "        \n",
    "        \n",
    "    \n",
    "    ### TODO - complete this method; it should compute a TFxIDF representation \n",
    "    ### (important: it should not be run before dictionary.idfs are not computed!)\n",
    "    def computeTF_IDF_Representation(self):\n",
    "        self.tf_idf = []\n",
    "        \n",
    "        if dictionary.idfs != None:\n",
    "            for index in range(len(self.bow)):\n",
    "                self.tf_idf.append(self.bow[index] * dictionary.idfs[index])\n",
    "            \n",
    "        #tu troche nie wiem, najpierw spr ten warunek, potem wyliczyc log i na koniec w petli przemnozyc???\n",
    "        \n",
    "    \n",
    "    def computeRepresentations(self):\n",
    "        self.computeBOW_Representation()\n",
    "        self.computeTF_Representation()\n",
    "        self.computeTF_IDF_Representation()\n",
    "    \n",
    "documents = [Document(i, RAW_DOCUMENTS[i], dictionary) for i in range(len(RAW_DOCUMENTS))]\n"
   ]
  },
  {
   "cell_type": "markdown",
   "metadata": {},
   "source": [
    "1.4) Compute IDFs here"
   ]
  },
  {
   "cell_type": "code",
   "execution_count": 98,
   "metadata": {},
   "outputs": [
    {
     "name": "stdout",
     "output_type": "stream",
     "text": [
      "[['yahoo', 1.0], ['york', 1.0], ['you', 1.0], ['young', 1.0], ['zdm', 1.0]]\n",
      "\n",
      "[['aaai', 1.0], ['about', 1.0], ['academic', 1.0], ['access', 1.0], ['acquired', 1.0]]\n"
     ]
    }
   ],
   "source": [
    "### TODO COMPUTE IDFS HERE (FINISH THE PROPER METHOD OF THE DICTIONARY CLASS - DO NOT FORGET TO RE-RUN THE CELL)\n",
    "dictionary.computeIDFs(documents)\n",
    "\n",
    "### SOME DEBUG\n",
    "res = [[dictionary.terms[i], dictionary.idfs[i]] for i in range(len(dictionary.terms))]\n",
    "res.sort(key = lambda x: x[1])\n",
    "# LEAST COMMON WORDS - HIGH IDF\n",
    "print(res[-5:])\n",
    "# MOST COMMON WORDS - LOW IDF\n",
    "print()\n",
    "print(res[:5])"
   ]
  },
  {
   "cell_type": "markdown",
   "metadata": {},
   "source": [
    "1.5) Compute the document representations (for each document run computeRepresentations())"
   ]
  },
  {
   "cell_type": "code",
   "execution_count": 99,
   "metadata": {},
   "outputs": [
    {
     "name": "stdout",
     "output_type": "stream",
     "text": [
      "[0, 0, 0, 0, 0, 0, 0, 0, 0, 0, 0, 0, 0, 1, 0, 0, 0, 0, 0, 0, 1, 0, 0, 1, 0, 0, 0, 0, 0, 0, 0, 0, 0, 0, 0, 0, 0, 0, 0, 0, 0, 0, 0, 0, 0, 0, 0, 0, 0, 0, 0, 0, 0, 0, 0, 0, 0, 0, 0, 0, 0, 0, 0, 0, 0, 0, 0, 0, 0, 0, 0, 0, 0, 0, 0, 0, 0, 0, 0, 0, 0, 0, 0, 0, 0, 0, 0, 0, 0, 0, 0, 0, 0, 0, 0, 0, 0, 0, 0, 1, 0, 0, 0, 0, 1, 0, 0, 0, 0, 0, 0, 0, 0, 0, 0, 0, 1, 0, 0, 0, 0, 0, 0, 0, 0, 1, 0, 0, 1, 0, 0, 0, 0, 0, 0, 0, 0, 1, 0, 0, 0, 0, 0, 0, 0, 0, 0, 0, 0, 0, 0, 0, 0, 0, 0, 0, 0, 0, 0, 0, 0, 0, 0, 0, 0, 0, 0, 0, 0, 0, 0, 0, 0, 0, 0, 0, 0, 0, 0, 0, 0, 0, 0, 0, 0, 0, 0, 0, 0, 0, 0, 0, 0, 0, 0, 0, 0, 0, 0, 0, 0, 0, 0, 0, 0, 0, 0, 0, 1, 0, 0, 0, 0, 0, 0, 0, 0, 0, 0, 0, 0, 0, 0, 0, 0, 0, 0, 0, 0, 0, 0, 0, 0, 0, 0, 0, 0, 0, 0, 0, 0, 0, 0, 0, 0, 0, 0, 0, 0, 0, 0, 0, 0, 0, 0, 0, 0, 0, 0, 0, 0, 0, 0, 0, 0, 0, 0, 0, 0, 0, 0, 0, 0, 0, 0, 0, 0, 0, 0, 0, 0, 0, 0, 0, 0, 0, 0, 0, 0, 0, 0, 0, 0, 0, 0, 0, 0, 0, 0, 0, 0, 0, 4, 0, 0, 0, 0, 0, 0, 0, 0, 0, 0, 0, 0, 1, 0, 4, 0, 0, 0, 0, 0, 0, 0, 0, 0, 0, 0, 0, 0, 0, 0, 0, 0, 0, 0, 0, 0, 0, 0, 0, 0, 0, 0, 0, 0, 0, 0, 0, 0, 0, 0, 0, 0, 0, 0, 0, 0, 0, 0, 0, 0, 0, 0, 0, 0, 0, 0, 0, 0, 0, 0, 0, 0, 0, 0, 0, 0, 0, 0, 0, 0, 0, 0, 0, 0, 0, 0, 0, 1, 0, 0, 0, 0, 0, 0, 0, 0, 0, 0, 0, 0, 0, 0, 0, 0, 0, 0, 0, 0, 0, 0, 0, 0, 0, 0, 0, 0, 0, 0, 0, 0, 0, 0, 0, 0, 0, 0, 0, 0, 0, 0, 0, 0, 0, 0, 0, 0, 0, 0, 0, 0, 0, 0, 0, 1, 0, 0, 2, 0, 0, 0, 0, 0, 0, 0, 0, 0, 0, 0, 0, 0, 0, 0, 0, 0, 0, 0, 0, 1, 0, 0, 0, 0, 0, 0, 0, 0, 0, 0, 0, 0, 0, 0, 0, 0, 0, 0, 0, 0, 0, 0, 0, 0, 0, 0, 0, 0, 0, 0, 0, 0, 0, 0, 0, 0, 0, 0, 0, 0, 0, 0, 0, 0, 0, 0, 1, 0, 0, 0, 0, 0, 0, 0, 0, 0, 0, 0, 0, 0, 0, 0, 0, 0, 0, 0, 0, 0, 0, 0, 0, 0, 0, 0, 0, 0, 0, 0, 0, 0, 0, 0, 0, 0, 0, 0, 1, 0, 0, 0, 0, 0, 0, 0, 0, 0, 0, 0, 0, 0, 0, 0, 0, 0, 0, 0, 0, 0, 0, 0, 0, 0, 0, 0, 0, 0, 0, 0, 0, 0, 1, 0, 0, 0, 0, 0, 0, 0, 0, 0, 0, 1, 0, 0, 0, 0, 0, 0, 0, 0, 1]\n"
     ]
    }
   ],
   "source": [
    "for d in documents: d.computeRepresentations()\n",
    "### SOME DEBUG (you should see some 4s - which terms are these?)\n",
    "print(documents[0].bow)"
   ]
  },
  {
   "cell_type": "markdown",
   "metadata": {},
   "source": [
    "1.6) Finish the below method. It should compute and return a cosine similarity (v1 and v2 are two vectors - tf-idf representations)"
   ]
  },
  {
   "cell_type": "code",
   "execution_count": 100,
   "metadata": {},
   "outputs": [],
   "source": [
    "### TODO \n",
    "def getSimilarity(v1, v2):      #wzor suma(a*b) / sqrt (suma (a)^2   * suma (b)^2) \n",
    "    mySum = 0\n",
    "    sumA = 0\n",
    "    sumB = 0\n",
    "    for elemA, elemB in zip(v1,v2):\n",
    "        mySum += elemA * elemB\n",
    "        sumA += elemA * elemA\n",
    "        sumB += elemB * elemB\n",
    "    \n",
    "    \n",
    "    return mySum / (math.sqrt (sumA * sumB))"
   ]
  },
  {
   "cell_type": "markdown",
   "metadata": {},
   "source": [
    "1.7) Run the below script for different queries. getTopResults seeks for documents being the most similar/relevant to the query. Do you find the results satisfactory?"
   ]
  },
  {
   "cell_type": "code",
   "execution_count": 128,
   "metadata": {},
   "outputs": [],
   "source": [
    "query = \"machine learning\"\n",
    "#query = \"academic research\"\n",
    "#query = \"international conference\"\n",
    "#query = \"international conference washington\""
   ]
  },
  {
   "cell_type": "code",
   "execution_count": 129,
   "metadata": {},
   "outputs": [
    {
     "name": "stdout",
     "output_type": "stream",
     "text": [
      "RANK = 1 WITH SIMILARITY = 0.8908708063747479 | DOC ID = 63\n",
      "AI / Machine Learning Resources\n",
      " AI / Machine Learning Resources. General Machine Learning. The Journal\n",
      " of Machine Learning. MLnet Machine Learning Archive at GMD. The ... \n",
      "\n",
      "\n",
      "RANK = 2 WITH SIMILARITY = 0.8728715609439696 | DOC ID = 34\n",
      "Machine Learning\n",
      " Machine Learning. Related Sites. Machine Learning Resources courtesy\n",
      " of David Aha A Machine Learning Tutorial a good overview of the ... \n",
      "\n",
      "\n",
      "RANK = 3 WITH SIMILARITY = 0.8703882797784892 | DOC ID = 77\n",
      "Machine Learning\n",
      " Machine Learning. Machine Learning Home Page (Editor) Machine Learning Home\n",
      " Page (Publisher) Machine Learning Online by Kluwer Academic Publishers: ... \n",
      "\n",
      "\n",
      "RANK = 4 WITH SIMILARITY = 0.8366600265340756 | DOC ID = 28\n",
      "Machine Learning\n",
      " 6.858/18.428: Machine Learning. Available Lecture Notes. ... Defining models for\n",
      " machine learning. Learning conjunctions in the mistake-bounded model. ... \n",
      "\n",
      "\n",
      "RANK = 5 WITH SIMILARITY = 0.8249579113843055 | DOC ID = 61\n",
      "CS 661 - Machine Learning (Salzberg)\n",
      " CS 661 - Machine Learning (Spring 1996). Steven Salzberg will ... (228K, PostScript).\n",
      " On-Line Resources in Machine Learning. Pointers to Machine ... \n",
      "\n",
      "\n"
     ]
    }
   ],
   "source": [
    "def getTopResults(query, documents, dictionary, similarity, top = 5):\n",
    "    qd = Document(-1, query, dictionary)\n",
    "    qd.computeRepresentations()\n",
    "    ranks = [[d, getSimilarity(d.tf_idf, qd.tf_idf)] for d in documents]\n",
    "    ranks.sort(key=lambda x: -x[1])\n",
    "    for i in range(top):\n",
    "        print(\"RANK = \" + str(i+1) + \" WITH SIMILARITY = \" + str(ranks[i][1]) + \" | DOC ID = \" + str(ranks[i][0].doc_id))\n",
    "        print(ranks[i][0].raw_document)\n",
    "        print(\"\")\n",
    "\n",
    "getTopResults(query, documents, dictionary, getSimilarity, top = 5)"
   ]
  },
  {
   "cell_type": "markdown",
   "metadata": {},
   "source": [
    "# 2) Query expansion"
   ]
  },
  {
   "cell_type": "markdown",
   "metadata": {},
   "source": [
    "## 2.1) Correlation matrix"
   ]
  },
  {
   "cell_type": "markdown",
   "metadata": {},
   "source": [
    "2.1.1) Finish dictionary.computeCorM method (see class Dictionary). It should generate a correlation matrix (correlation between terms).\n",
    "\n",
    "IMPORTANT: although corM[ i ][ i ] (for each i) should be 1.0, set it to -1.0"
   ]
  },
  {
   "cell_type": "code",
   "execution_count": 103,
   "metadata": {},
   "outputs": [
    {
     "name": "stdout",
     "output_type": "stream",
     "text": [
      "[[-1.    0.    0.   ...  0.    0.    0.  ]\n",
      " [ 0.   -1.    0.   ...  0.05  0.    0.  ]\n",
      " [ 0.    0.   -1.   ...  0.    0.    0.  ]\n",
      " ...\n",
      " [ 0.    0.05  0.   ... -1.    0.    0.  ]\n",
      " [ 0.    0.    0.   ...  0.   -1.    0.  ]\n",
      " [ 0.    0.    0.   ...  0.    0.   -1.  ]]\n"
     ]
    }
   ],
   "source": [
    "### TODO - COMPLETE THE computeCorM METHOD (see one of the first cells)\n",
    "dictionary.computeCorM(documents)\n",
    "print(dictionary.corM)"
   ]
  },
  {
   "cell_type": "markdown",
   "metadata": {},
   "source": [
    "2.1.2) Finish the below method. For each term in the query (you must parse the query, see getTopResults() method), find another term which is the most correlated with the input term."
   ]
  },
  {
   "cell_type": "code",
   "execution_count": 126,
   "metadata": {},
   "outputs": [
    {
     "name": "stdout",
     "output_type": "stream",
     "text": [
      "129\n"
     ]
    },
    {
     "data": {
      "text/plain": [
       "'deals'"
      ]
     },
     "execution_count": 126,
     "metadata": {},
     "output_type": "execute_result"
    }
   ],
   "source": [
    "#query = \"machine\"\n",
    "#query = \"algorithm\"\n",
    "#query = \"learning\"\n",
    "#query = \"conference\"\n",
    "#query = \"research\"\n",
    "query = \"concept\"\n",
    "\n",
    "def suggestKeywords(query, dictionary):\n",
    "    ### TODO\n",
    "    #print(\"Suggestions\")\n",
    "    #pass\n",
    "    lookFor = -1\n",
    "    for index, term in enumerate(dictionary.terms):\n",
    "        if query == term:\n",
    "            lookFor = index\n",
    "            break\n",
    "    maxValue = max(dictionary.corM[index])\n",
    "    for i, elem in enumerate(dictionary.corM[index]):\n",
    "        if elem == maxValue:\n",
    "            return dictionary.terms[i]\n",
    "        \n",
    "suggestKeywords(query, dictionary)"
   ]
  },
  {
   "cell_type": "markdown",
   "metadata": {},
   "source": [
    "# 2.2) Rocchio algorithm"
   ]
  },
  {
   "cell_type": "markdown",
   "metadata": {},
   "source": [
    "$\\overrightarrow{q_{m}} = \\alpha \\overrightarrow{q} + \\left(\\beta \\cdot \\dfrac{1}{|D_{r}|} \\sum_{\\overrightarrow{D_j} \\in D_{r}} \\overrightarrow{D_j} \\right) - \\left(\\gamma \\cdot \\dfrac{1}{|D_{nr}|} \\sum_{\\overrightarrow{D_j} \\in D_{nr}} \\overrightarrow{D_j} \\right)$"
   ]
  },
  {
   "cell_type": "markdown",
   "metadata": {},
   "source": [
    "2.2.1) Firstly, run the below code. Observe the results. Assume that we do not like the first and the second result (Docs 63 and 77). However, assume that docs 29 and 36 are satisfactory. Now, modfify the method. It should alter the query vector, according to Rocchio algorithm. Check the result for the above considered scenario (relevant docs = 29 and 36; not relevant = 63 and 77). Check the results for different values of alpha, beta, and gamma coefficients. "
   ]
  },
  {
   "cell_type": "code",
   "execution_count": 142,
   "metadata": {},
   "outputs": [
    {
     "name": "stdout",
     "output_type": "stream",
     "text": [
      "1.4758181820886294\n",
      "1.7612590861532371\n",
      "RANK = 1 WITH SIMILARITY = 0.3024566686388972 | DOC ID = 52\n",
      "Machine Learning at UC Santa Cruz\n",
      " Machine Learning Home Page. ... The Machine Learning group at UCSC is dedicated to\n",
      " the discovery and analysis of algorithms for different learning problems. ... \n",
      " Description: Research on decision theory, neural networks, computational biology, computational geometry, theoretical...\n",
      "\n",
      "\n",
      "RANK = 2 WITH SIMILARITY = 0.29933636137308217 | DOC ID = 27\n",
      "Machine Learning FAQ\n",
      " Machine Learning FAQ. Machine Learning Frequently Asked Questions. Click Here\n",
      " to access our page. You are using a Browser that does not support Frames. ... \n",
      " Description: Questions and answers about Machine Learning. Anyone can post his/her own questions and answers.\n",
      "\n",
      "\n",
      "RANK = 3 WITH SIMILARITY = 0.2965913359686126 | DOC ID = 0\n",
      "David W. Aha:  Machine Learning Page\n",
      " Machine Learning Resources. Suggestions welcome. ... (WizRule); ZDM Scientific\n",
      " Ltd. Conference Announcements. Courses on Machine Learning. Data Repositories. ... \n",
      " Description: Comprehensive machine learning resources from Applications to Tutorials.\n",
      "\n",
      "\n",
      "RANK = 4 WITH SIMILARITY = 0.2923101414931775 | DOC ID = 13\n",
      "UTCS Machine Learning Research Group\n",
      " Machine learning is the study of adaptive computational systems that\n",
      " improve their performance with experience. The UT Machine Learning ... \n",
      " Description: Research on General Inductive Learning, Inductive Logic Programming, Natural Language Learning, Qualitati...\n",
      "\n",
      "\n",
      "RANK = 5 WITH SIMILARITY = 0.28967560395546726 | DOC ID = 66\n",
      "Machine Learning CiteSeer; NEC Research Institute; Steve ... \n",
      " ... machine learning researchers that the Bayesian 56 Multiagent Systems: A Survey from\n",
      " a Machine Learning Perspective - Stone, Veloso (1997) (Correct) Distributed ... \n",
      "\n",
      "\n",
      "RANK = 6 WITH SIMILARITY = 0.28926642266967073 | DOC ID = 42\n",
      "Machine Learning and Applied Statistics - Home\n",
      " Home Machine Learning and Applies Statistics Overview Group Member Photos People\n",
      " Projects Publications MLAS in the News. ... Journal of Machine Learning Research. ... \n",
      " Description: The MLAS group is focused on learning from data and data mining. By building software that automatically...\n",
      "\n",
      "\n",
      "RANK = 7 WITH SIMILARITY = 0.2825918622427201 | DOC ID = 44\n",
      "The Hebrew University - School of Computer Science and ... \n",
      " The Machine Learning Lab. Contents: ... Research students: Gill Bejerano Main\n",
      " subject : Machine Learning, Applications in Computational Biology. ... \n",
      " Description: Research projects on learning in human-machine interaction, natural language interface to the WWW,...\n",
      "\n",
      "\n",
      "RANK = 8 WITH SIMILARITY = 0.2792775065203212 | DOC ID = 71\n",
      "Cogprints - Subject: Machine Learning\n",
      " Subject: Machine Learning. ... Proceedings AAAI Fall Symposium on Machine Learning and\n",
      " Computer Vision, pages 70-74, Research Triangle Park, North Carolina, USA. ... \n",
      "\n",
      "\n",
      "RANK = 9 WITH SIMILARITY = 0.27797131320770496 | DOC ID = 62\n",
      "Open Directory - Computers: Artificial Intelligence: Machine ... \n",
      " ... David W. Aha: Machine Learning Page - Comprehensive machine learning\n",
      " resources from Applications to Tutorials. Machine Learning ... \n",
      "\n",
      "\n",
      "RANK = 10 WITH SIMILARITY = 0.2752458896276016 | DOC ID = 29\n",
      "Machine Learning\n",
      " 6.858/18.428: Machine Learning. ... This course deals with the following topics:\n",
      " Formal models of machine learning; Learning concepts from examples; ... \n",
      "\n",
      "\n"
     ]
    }
   ],
   "source": [
    "def getTopResults_Rocchio(query, \n",
    "                          documents, \n",
    "                          dictionary, \n",
    "                          similarity, \n",
    "                          rel_docs = [29, 36],\n",
    "                          nrel_docs = [63, 77],\n",
    "                          alpha = 0.9,\n",
    "                          beta = 0.6,\n",
    "                          gamma = 0.2,\n",
    "                          top = 10):\n",
    "    qd = Document(-1, query, dictionary)\n",
    "    qd.computeRepresentations()\n",
    "    ##### TODO: MODIFY qd.tf_idf HERE\n",
    "    \n",
    "    dj = 0     #bedzie juz przechowywac cala sume, a nie poszczegolne dj\n",
    "    ndj = 0\n",
    "    \n",
    "    #TU NIE WIEM CO TO WŁAŚCIWIE JEST dj we Wzorze, czy jest ok?\n",
    "    for d in documents:\n",
    "        if d.doc_id in rel_docs:\n",
    "            dj += getSimilarity(d.tf_idf, qd.tf_idf)\n",
    "        if d.doc_id in nrel_docs:\n",
    "            ndj += getSimilarity(d.tf_idf, qd.tf_idf)\n",
    "            \n",
    "    \n",
    "    for i, elem in enumerate(qd.tf_idf):\n",
    "        qd.tf_idf[i] = alpha * elem + (beta / len(rel_docs) * dj) - (gamma / len(nrel_docs) * ndj)\n",
    "    \n",
    "    #####\n",
    "    ranks = [[d, getSimilarity(d.tf_idf, qd.tf_idf)] for d in documents]\n",
    "    ranks.sort(key=lambda x: -x[1])\n",
    "    for i in range(top):\n",
    "        print(\"RANK = \" + str(i+1) + \" WITH SIMILARITY = \" + str(ranks[i][1]) + \" | DOC ID = \" + str(ranks[i][0].doc_id))\n",
    "        print(ranks[i][0].raw_document)\n",
    "        print(\"\")\n",
    "\n",
    "getTopResults_Rocchio(\"machine learning\", documents, dictionary, getSimilarity, top = 10)"
   ]
  },
  {
   "cell_type": "markdown",
   "metadata": {},
   "source": [
    "# 2.3) WordNet"
   ]
  },
  {
   "cell_type": "markdown",
   "metadata": {},
   "source": [
    "2.3.1) Installation"
   ]
  },
  {
   "cell_type": "markdown",
   "metadata": {},
   "source": [
    "http://www.nltk.org/install.html\n",
    "\n",
    "import nltk \n",
    "\n",
    "nltk.download()\n",
    "\n",
    "https://www.nltk.org/data.html"
   ]
  },
  {
   "cell_type": "code",
   "execution_count": 148,
   "metadata": {},
   "outputs": [
    {
     "name": "stdout",
     "output_type": "stream",
     "text": [
      "showing info https://raw.githubusercontent.com/nltk/nltk_data/gh-pages/index.xml\n"
     ]
    }
   ],
   "source": [
    "import nltk\n",
    "\n",
    "nltk.download()\n",
    "from nltk.corpus import wordnet as wn"
   ]
  },
  {
   "cell_type": "markdown",
   "metadata": {},
   "source": [
    "Definition: synset = (from wiki) (information science) A set of one or more synonyms that are interchangeable in some context without changing the truth value of the proposition in which they are embedded."
   ]
  },
  {
   "cell_type": "markdown",
   "metadata": {},
   "source": [
    "2.3.2) Display sysents for \"machine\""
   ]
  },
  {
   "cell_type": "code",
   "execution_count": 149,
   "metadata": {},
   "outputs": [
    {
     "data": {
      "text/plain": [
       "[Synset('machine.n.01'),\n",
       " Synset('machine.n.02'),\n",
       " Synset('machine.n.03'),\n",
       " Synset('machine.n.04'),\n",
       " Synset('machine.n.05'),\n",
       " Synset('car.n.01'),\n",
       " Synset('machine.v.01'),\n",
       " Synset('machine.v.02')]"
      ]
     },
     "execution_count": 149,
     "metadata": {},
     "output_type": "execute_result"
    }
   ],
   "source": [
    "wn.synsets('machine')"
   ]
  },
  {
   "cell_type": "markdown",
   "metadata": {},
   "source": [
    "2.3.3) Display all definitions (.definition()) for synsets (machine)"
   ]
  },
  {
   "cell_type": "code",
   "execution_count": 152,
   "metadata": {},
   "outputs": [
    {
     "name": "stdout",
     "output_type": "stream",
     "text": [
      "any mechanical or electrical device that transmits or modifies energy to perform or assist in the performance of human tasks\n",
      "an efficient person\n",
      "an intricate organization that accomplishes its goals efficiently\n",
      "a device for overcoming resistance at one point by applying force at some other point\n",
      "a group that controls the activities of a political party\n",
      "a motor vehicle with four wheels; usually propelled by an internal combustion engine\n",
      "turn, shape, mold, or otherwise finish by machinery\n",
      "make by machinery\n"
     ]
    }
   ],
   "source": [
    "#TODO\n",
    "for elem in wn.synsets('machine'):\n",
    "    print(elem.definition())"
   ]
  },
  {
   "cell_type": "markdown",
   "metadata": {},
   "source": [
    "2.3.4) For each synset (machine), display its hypernym (a word with a broad meaning constituting a category into which words with more specific meanings fall; a superordinate. For example, colour is a hypernym of red)."
   ]
  },
  {
   "cell_type": "code",
   "execution_count": 154,
   "metadata": {},
   "outputs": [
    {
     "name": "stdout",
     "output_type": "stream",
     "text": [
      "[Synset('device.n.01')]\n",
      "[Synset('person.n.01')]\n",
      "[Synset('organization.n.01')]\n",
      "[Synset('mechanical_device.n.01')]\n",
      "[Synset('organization.n.01')]\n",
      "[Synset('motor_vehicle.n.01')]\n",
      "[Synset('shape.v.02')]\n",
      "[Synset('produce.v.02')]\n"
     ]
    }
   ],
   "source": [
    "#TODO\n",
    "for elem in wn.synsets('machine'):\n",
    "    print(elem.hypernyms())"
   ]
  },
  {
   "cell_type": "markdown",
   "metadata": {
    "collapsed": true
   },
   "source": [
    "See: http://www.nltk.org/howto/wordnet.html\n",
    "for more examples"
   ]
  },
  {
   "cell_type": "code",
   "execution_count": null,
   "metadata": {
    "collapsed": true
   },
   "outputs": [],
   "source": []
  }
 ],
 "metadata": {
  "kernelspec": {
   "display_name": "Python 3",
   "language": "python",
   "name": "python3"
  },
  "language_info": {
   "codemirror_mode": {
    "name": "ipython",
    "version": 3
   },
   "file_extension": ".py",
   "mimetype": "text/x-python",
   "name": "python",
   "nbconvert_exporter": "python",
   "pygments_lexer": "ipython3",
   "version": "3.6.0"
  }
 },
 "nbformat": 4,
 "nbformat_minor": 2
}
