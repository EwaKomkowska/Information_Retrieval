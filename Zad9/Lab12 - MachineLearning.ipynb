{
 "cells": [
  {
   "cell_type": "markdown",
   "metadata": {},
   "source": [
    "# Exercice - Collaborative filtering"
   ]
  },
  {
   "cell_type": "markdown",
   "metadata": {},
   "source": [
    "Implement user-based collaborative filtering to find recommendations for new user."
   ]
  },
  {
   "cell_type": "code",
   "execution_count": 1,
   "metadata": {},
   "outputs": [],
   "source": [
    "import scipy.stats\n",
    "import numpy"
   ]
  },
  {
   "cell_type": "markdown",
   "metadata": {},
   "source": [
    "The code below reads file \"movies.csv\" with ratings in the following form (userId, itemId, rating) and processes it. As a result in the variable ratings there is a matrix with users as rows and items as colunms. In cells there are ratings."
   ]
  },
  {
   "cell_type": "code",
   "execution_count": 2,
   "metadata": {},
   "outputs": [],
   "source": [
    "def readRatings(path):\n",
    "    file=open(path, \"r\")\n",
    "    lines = file.read().split(\"\\n\")\n",
    "    return([[int(x) for x in line.split(\",\")] for line in lines if line != \"\"])\n",
    "\n",
    "def processRatings(path):\n",
    "    ratings = readRatings(path)\n",
    "    maxUser = max([item[0] for item in ratings])\n",
    "    maxItem = max([item[1] for item in ratings])\n",
    "    ratMatrix = numpy.zeros((maxUser, maxItem))\n",
    "    for rat in ratings:\n",
    "        ratMatrix[rat[0]-1, rat[1]-1] = rat[2]\n",
    "    return(ratMatrix)\n",
    "ratings = processRatings(\"movies.csv\")"
   ]
  },
  {
   "cell_type": "markdown",
   "metadata": {},
   "source": [
    "**TODO** implement similarity for pair of vectors (user ratings). Use Pearson correlation (scipy.stats.pearsonr)."
   ]
  },
  {
   "cell_type": "code",
   "execution_count": 3,
   "metadata": {},
   "outputs": [],
   "source": [
    "def similarity(item1, item2):\n",
    "    return scipy.stats.pearsonr(item1, item2)[0]"
   ]
  },
  {
   "cell_type": "code",
   "execution_count": 4,
   "metadata": {},
   "outputs": [
    {
     "data": {
      "text/plain": [
       "0.10632192973557714"
      ]
     },
     "execution_count": 4,
     "metadata": {},
     "output_type": "execute_result"
    }
   ],
   "source": [
    "similarity(ratings[0],ratings[1])"
   ]
  },
  {
   "cell_type": "markdown",
   "metadata": {},
   "source": [
    "**TODO** implement weighted average. RatingsCol parameter contains a column from ratings matrix (ratings of all users for one movie). Weights parameter is the array of similarities of users to current user (non-zero for k nearest neighbors, zeros for others)."
   ]
  },
  {
   "cell_type": "code",
   "execution_count": 5,
   "metadata": {},
   "outputs": [
    {
     "data": {
      "text/plain": [
       "1.9090909090909092"
      ]
     },
     "execution_count": 5,
     "metadata": {},
     "output_type": "execute_result"
    }
   ],
   "source": [
    "def weightedMean(ratingsCol, weights):\n",
    "    my_sum = 0\n",
    "    for r, w in zip(ratingsCol, weights):\n",
    "        my_sum += r*w\n",
    "    return my_sum/sum(weights)\n",
    "\n",
    "weightedMean([1,2,3], [5,2,4])"
   ]
  },
  {
   "cell_type": "markdown",
   "metadata": {},
   "source": [
    "**TODO** implement user-based collaborative filtering. Use the following steps:\n",
    "    1. find similarities for all users fo given user (parameter userId). Remember not to take into consideration this user himself. The easiest form is to set value -1 for similarity of user to himself. \n",
    "    2. sort similarities descending\n",
    "    3. find weights vector - similarity for k nearest users, 0 for others\n",
    "    4. find predicted ratings for all items, which werent already rated by this user\n",
    "        4.1. call weightedMean method for all columns with zeros for given user and computed in step 2 weights vector)\n",
    "        4.2. sort predicted values descending\n",
    "    5. return results in the form of sorted descending list of tuples (itemId, predicted rating)"
   ]
  },
  {
   "cell_type": "code",
   "execution_count": 6,
   "metadata": {},
   "outputs": [],
   "source": [
    "from operator import itemgetter\n",
    "k=10 #number of closest users used for recommendation\n",
    "\n",
    "def findRecommendationsUserBased(userId, ratingsMatrix):\n",
    "    \n",
    "    # array of similarity [1]\n",
    "    \n",
    "    sim_array = [None] * len(ratingsMatrix)\n",
    "    \n",
    "    for other in range(len(ratingsMatrix)):\n",
    "        if userId == other:\n",
    "            sim_array[other] = -1\n",
    "        else:\n",
    "            sim_array[other] = similarity(ratingsMatrix[userId], ratingsMatrix[other])\n",
    "    \n",
    "    # sort sim_array, receive idexes [2]\n",
    "    \n",
    "    sort_index = numpy.argsort(sim_array) # this array will be in revered order\n",
    "    \n",
    "    # find weights vector (numbers only for k-nearest) [3]\n",
    "    \n",
    "    weight_vect = [0] * len(ratingsMatrix)\n",
    "    \n",
    "    num = sort_index[-k:]\n",
    "    \n",
    "    for i in range(len(num)):\n",
    "        main_index = num[i]\n",
    "        weight_vect[main_index] = sim_array[main_index]\n",
    "    \n",
    "    # find predicted ratings [4]\n",
    "    \n",
    "    arr_pred_ratings = []\n",
    "    \n",
    "    # for each item\n",
    "    for i in range(len(ratingsMatrix[userId])):\n",
    "        if ratingsMatrix[userId][i] == 0.0:\n",
    "            arr_pred_ratings.append((i, weightedMean(ratingsMatrix[:, i], weight_vect)))\n",
    "    \n",
    "    arr_pred_ratings = sorted(arr_pred_ratings, key=lambda tup: tup[1], reverse=True)\n",
    "    \n",
    "    \n",
    "    return arr_pred_ratings\n",
    "\n",
    "#findRecommendationsUserBased(1, ratings)"
   ]
  },
  {
   "cell_type": "markdown",
   "metadata": {},
   "source": [
    "The following code fragment prints 10 recommended movies for 10 first users. Notice that the user and movie IDs corespond the ones from input file, not the matrix indices. The matrix row/column index = user/movie ID - 1"
   ]
  },
  {
   "cell_type": "code",
   "execution_count": 7,
   "metadata": {},
   "outputs": [
    {
     "name": "stdout",
     "output_type": "stream",
     "text": [
      "User: 1, Item: 474, predicted rating: 4.2\n",
      "User: 1, Item: 655, predicted rating: 3.8\n",
      "User: 1, Item: 423, predicted rating: 3.7\n",
      "User: 1, Item: 732, predicted rating: 3.69\n",
      "User: 1, Item: 318, predicted rating: 3.52\n",
      "User: 1, Item: 433, predicted rating: 3.38\n",
      "User: 1, Item: 568, predicted rating: 3.31\n",
      "User: 1, Item: 403, predicted rating: 3.08\n",
      "User: 1, Item: 385, predicted rating: 2.99\n",
      "User: 1, Item: 651, predicted rating: 2.99\n",
      "\n",
      "User: 2, Item: 9, predicted rating: 2.88\n",
      "User: 2, Item: 181, predicted rating: 2.69\n",
      "User: 2, Item: 124, predicted rating: 2.68\n",
      "User: 2, Item: 744, predicted rating: 2.55\n",
      "User: 2, Item: 515, predicted rating: 2.38\n",
      "User: 2, Item: 333, predicted rating: 2.23\n",
      "User: 2, Item: 750, predicted rating: 2.13\n",
      "User: 2, Item: 690, predicted rating: 2.05\n",
      "User: 2, Item: 245, predicted rating: 1.97\n",
      "User: 2, Item: 628, predicted rating: 1.79\n",
      "\n",
      "User: 3, Item: 313, predicted rating: 4.41\n",
      "User: 3, Item: 269, predicted rating: 3.1\n",
      "User: 3, Item: 315, predicted rating: 2.93\n",
      "User: 3, Item: 750, predicted rating: 2.65\n",
      "User: 3, Item: 748, predicted rating: 2.61\n",
      "User: 3, Item: 310, predicted rating: 2.6\n",
      "User: 3, Item: 678, predicted rating: 2.59\n",
      "User: 3, Item: 286, predicted rating: 2.35\n",
      "User: 3, Item: 751, predicted rating: 2.21\n",
      "User: 3, Item: 304, predicted rating: 2.2\n",
      "\n",
      "User: 4, Item: 302, predicted rating: 2.79\n",
      "User: 4, Item: 326, predicted rating: 1.99\n",
      "User: 4, Item: 307, predicted rating: 1.96\n",
      "User: 4, Item: 879, predicted rating: 1.95\n",
      "User: 4, Item: 286, predicted rating: 1.94\n",
      "User: 4, Item: 690, predicted rating: 1.92\n",
      "User: 4, Item: 245, predicted rating: 1.91\n",
      "User: 4, Item: 268, predicted rating: 1.89\n",
      "User: 4, Item: 323, predicted rating: 1.82\n",
      "User: 4, Item: 305, predicted rating: 1.78\n",
      "\n",
      "User: 5, Item: 96, predicted rating: 3.86\n",
      "User: 5, Item: 195, predicted rating: 3.8\n",
      "User: 5, Item: 202, predicted rating: 3.57\n",
      "User: 5, Item: 82, predicted rating: 3.4\n",
      "User: 5, Item: 175, predicted rating: 3.31\n",
      "User: 5, Item: 161, predicted rating: 3.2\n",
      "User: 5, Item: 265, predicted rating: 3.1\n",
      "User: 5, Item: 28, predicted rating: 3.09\n",
      "User: 5, Item: 568, predicted rating: 3.07\n",
      "User: 5, Item: 56, predicted rating: 2.9\n",
      "\n"
     ]
    }
   ],
   "source": [
    "usersCount = ratings.shape[0]\n",
    "for user in range(5):\n",
    "    recommendations = findRecommendationsUserBased(user, ratings)\n",
    "    for i in range(10):\n",
    "        print(\"User: \" + str(user + 1) + \", Item: \" + str(recommendations[i][0] + 1) + \", predicted rating: \" + str(round(recommendations[i][1], 2)))\n",
    "    print(\"\")"
   ]
  },
  {
   "cell_type": "code",
   "execution_count": null,
   "metadata": {},
   "outputs": [],
   "source": []
  }
 ],
 "metadata": {
  "kernelspec": {
   "display_name": "Python 3",
   "language": "python",
   "name": "python3"
  },
  "language_info": {
   "codemirror_mode": {
    "name": "ipython",
    "version": 3
   },
   "file_extension": ".py",
   "mimetype": "text/x-python",
   "name": "python",
   "nbconvert_exporter": "python",
   "pygments_lexer": "ipython3",
   "version": "3.7.6"
  }
 },
 "nbformat": 4,
 "nbformat_minor": 2
}
