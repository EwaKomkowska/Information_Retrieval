{
 "cells": [
  {
   "cell_type": "markdown",
   "metadata": {},
   "source": [
    "# Exercice - Collaborative filtering"
   ]
  },
  {
   "cell_type": "markdown",
   "metadata": {},
   "source": [
    "Implement user-based collaborative filtering to find recommendations for new user."
   ]
  },
  {
   "cell_type": "code",
   "execution_count": null,
   "metadata": {},
   "outputs": [],
   "source": [
    "import scipy.stats\n",
    "import numpy"
   ]
  },
  {
   "cell_type": "markdown",
   "metadata": {},
   "source": [
    "The code below reads file \"movies.csv\" with ratings in the following form (userId, itemId, rating) and processes it. As a result in the variable ratings there is a matrix with users as rows and items as colunms. In cells there are ratings."
   ]
  },
  {
   "cell_type": "code",
   "execution_count": null,
   "metadata": {},
   "outputs": [],
   "source": [
    "def readRatings(path):\n",
    "    file=open(path, \"r\")\n",
    "    lines = file.read().split(\"\\n\")\n",
    "    return([[int(x) for x in line.split(\",\")] for line in lines if line != \"\"])\n",
    "\n",
    "def processRatings(path):\n",
    "    ratings = readRatings(path)\n",
    "    maxUser = max([item[0] for item in ratings])\n",
    "    maxItem = max([item[1] for item in ratings])\n",
    "    ratMatrix = numpy.zeros((maxUser, maxItem))\n",
    "    for rat in ratings:\n",
    "        ratMatrix[rat[0]-1, rat[1]-1] = rat[2]\n",
    "    return(ratMatrix)\n",
    "ratings = processRatings(\"movies.csv\")"
   ]
  },
  {
   "cell_type": "markdown",
   "metadata": {},
   "source": [
    "**TODO** implement similarity for pair of vectors (user ratings). Use Pearson correlation (scipy.stats.pearsonr)."
   ]
  },
  {
   "cell_type": "code",
   "execution_count": null,
   "metadata": {},
   "outputs": [],
   "source": [
    "def similarity(item1, item2):\n",
    "    return 0.0"
   ]
  },
  {
   "cell_type": "code",
   "execution_count": null,
   "metadata": {},
   "outputs": [],
   "source": [
    "similarity(ratings[0],ratings[1])"
   ]
  },
  {
   "cell_type": "markdown",
   "metadata": {},
   "source": [
    "**TODO** implement weighted average. RatingsCol parameter contains a column from ratings matrix (ratings of all users for one movie). Weights parameter is the array of similarities of users to current user (non-zero for k nearest neighbors, zeros for others)."
   ]
  },
  {
   "cell_type": "code",
   "execution_count": null,
   "metadata": {},
   "outputs": [],
   "source": [
    "def weightedMean(ratingsCol, weights):\n",
    "    return 0.0\n",
    "\n",
    "weightedMean([1,2,3], [5,2,4])"
   ]
  },
  {
   "cell_type": "markdown",
   "metadata": {},
   "source": [
    "**TODO** implement user-based collaborative filtering. Use the following steps:\n",
    "    1. find similarities for all users fo given user (parameter userId). Remember not to take into consideration this user himself. The easiest form is to set value -1 for similarity of user to himself. \n",
    "    2. sort similarities descending\n",
    "    3. find weights vector - similarity for k nearest users, 0 for others\n",
    "    4. find predicted ratings for all items, which werent already rated by this user\n",
    "        4.1. call weightedMean method for all columns with zeros for given user and computed in step 2 weights vector)\n",
    "        4.2. sort predicted values descending\n",
    "    5. return results in the form of sorted descending list of tuples (itemId, predicted rating)"
   ]
  },
  {
   "cell_type": "code",
   "execution_count": null,
   "metadata": {},
   "outputs": [],
   "source": [
    "k=10 #number of closest users used for recommendation\n",
    "def findRecommendationsUserBased(userId, raitingsMatrix):\n",
    "    return []"
   ]
  },
  {
   "cell_type": "markdown",
   "metadata": {},
   "source": [
    "The following code fragment prints 10 recommended movies for 10 first users. Notice that the user and movie IDs corespond the ones from input file, not the matrix indices. The matrix row/column index = user/movie ID - 1"
   ]
  },
  {
   "cell_type": "code",
   "execution_count": null,
   "metadata": {},
   "outputs": [],
   "source": [
    "usersCount = ratings.shape[0]\n",
    "for user in range(5):\n",
    "    recommendations = findRecommendationsUserBased(user, ratings)\n",
    "    for i in range(10):\n",
    "        print(\"User: \" + str(user + 1) + \", Item: \" + str(recommendations[i][0] + 1) + \", predicted rating: \" + str(round(recommendations[i][1], 2)))\n",
    "    print(\"\")"
   ]
  },
  {
   "cell_type": "code",
   "execution_count": null,
   "metadata": {},
   "outputs": [],
   "source": []
  }
 ],
 "metadata": {
  "kernelspec": {
   "display_name": "Python 3",
   "language": "python",
   "name": "python3"
  },
  "language_info": {
   "codemirror_mode": {
    "name": "ipython",
    "version": 3
   },
   "file_extension": ".py",
   "mimetype": "text/x-python",
   "name": "python",
   "nbconvert_exporter": "python",
   "pygments_lexer": "ipython3",
   "version": "3.6.6"
  }
 },
 "nbformat": 4,
 "nbformat_minor": 2
}
