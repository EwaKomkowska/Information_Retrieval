{
 "cells": [
  {
   "cell_type": "code",
   "execution_count": 1,
   "metadata": {},
   "outputs": [],
   "source": [
    "%matplotlib inline\n",
    "import numpy as np\n",
    "import matplotlib.pyplot as plt\n",
    "import datetime"
   ]
  },
  {
   "cell_type": "markdown",
   "metadata": {},
   "source": [
    "1) Log file is loaded"
   ]
  },
  {
   "cell_type": "code",
   "execution_count": 2,
   "metadata": {
    "scrolled": true
   },
   "outputs": [
    {
     "name": "stdout",
     "output_type": "stream",
     "text": [
      "156.15.13.173 [01/Jan/2018:11:13:49 +0100] \"GET AddProduct.html HTTP/1.0\" 200 2356\n",
      "176.247.135.49 [01/Jan/2018:11:18:07 +0100] \"GET Shop.html HTTP/1.0\" 200 7466\n",
      "176.247.135.49 [01/Jan/2018:11:19:05 +0100] \"GET AddProduct.html HTTP/1.0\" 200 2356\n"
     ]
    }
   ],
   "source": [
    "file = open(\"log.txt\", \"r\") \n",
    "lines = file.readlines()\n",
    "for l in range(3): print(lines[l][:-1])"
   ]
  },
  {
   "cell_type": "markdown",
   "metadata": {},
   "source": [
    "2) Cass \"Request\" parses and keeps data of a single requests. Complete the TODO, where a given \"line\" (string) should be parsed in order to dervie the ip of the host making the request, time of the request (in seconds), and target page (name)."
   ]
  },
  {
   "cell_type": "code",
   "execution_count": 3,
   "metadata": {},
   "outputs": [],
   "source": [
    "class Request:\n",
    "    def __init__(self, line):\n",
    "        # TODO DO PARSING HERE        \n",
    "        myIP = line.split('.')\n",
    "        self.ip = \"\"\n",
    "        myData = \"\"\n",
    "        self.page=\"\"\n",
    "        #It's done to have an IP ---------------DONE????????????\n",
    "        for elem in myIP:\n",
    "            if elem.find('[') == -1:\n",
    "                self.ip += elem + '.'\n",
    "            else:\n",
    "                self.ip += elem[:elem.find('[')]\n",
    "                myData += elem[elem.find('[')+13:elem.find('[')+21]\n",
    "                self.page += elem[elem.find('GET ')+4:len(elem)] + '.html'\n",
    "                break\n",
    "                \n",
    "        # convert hours + minutes + seconds -> total number of seconds-------------------DONE???????\n",
    "        self.time = int(myData[0:2]) * 3600 + int(myData[3:5]) * 60 + int(myData[7:])\n",
    "        \n",
    "    def __repr__(self):\n",
    "        return self.ip + \"     \" +  str(datetime.timedelta(seconds=self.time)) + \" -> \" + self.page\n"
   ]
  },
  {
   "cell_type": "markdown",
   "metadata": {},
   "source": [
    "3) Each line of log.txt is parsed and the Request objects are added to the list"
   ]
  },
  {
   "cell_type": "code",
   "execution_count": 4,
   "metadata": {},
   "outputs": [
    {
     "name": "stdout",
     "output_type": "stream",
     "text": [
      "156.15.13.173      11:13:09 -> AddProduct.html\n",
      "176.247.135.49      11:18:07 -> Shop.html\n",
      "176.247.135.49      11:19:05 -> AddProduct.html\n",
      "176.247.135.49      11:29:05 -> Summary.html\n",
      "69.84.30.199      11:43:09 -> Shop.html\n",
      "69.84.30.199      11:45:06 -> AddProduct.html\n",
      "57.116.45.120      11:46:05 -> AddProduct.html\n",
      "69.84.30.199      11:50:06 -> Summary.html\n",
      "69.84.30.199      11:52:08 -> Payment.html\n",
      "26.19.183.202      11:53:01 -> AddProduct.html\n"
     ]
    }
   ],
   "source": [
    "reqs = [Request(line) for line in lines]\n",
    "for l in range(10): print(reqs[l]) "
   ]
  },
  {
   "cell_type": "markdown",
   "metadata": {},
   "source": [
    "# Exercise"
   ]
  },
  {
   "cell_type": "markdown",
   "metadata": {},
   "source": [
    "Your task is to analyze the log file. You should indentify the users and sessions. Then, compute the following: <br>\n",
    "3.1) the number of sessions (should be 1000 :) ), <br>\n",
    "3.2) the number of users, <br>\n",
    "3.3) the average number of sessions per one user <br>\n",
    "3.4) use the distribution plot to visualize the sessions' lengths (minutes);  <br>\n",
    "3.5) use the distribution plot to visualize the sessions' lengths (the number of requests) <br>\n",
    "3.6) use the distribution plot to visualize sessions' starting times (hours). <br>\n",
    "3.7) which web page is the most common entry point?; for each page plot the number of times it has been an entry page,  <br>\n",
    "3.8) which web page is the most common departure point?; for each page plot the number of times the user stopped a session while being on this page, <br>\n",
    "3.9) for each page plot the average time the user stayed on this page <br>\n",
    "3.10) print the fist 10 sessions (paths). <br>\n",
    "\n",
    "You may find the following classes helpful and data."
   ]
  },
  {
   "cell_type": "code",
   "execution_count": 5,
   "metadata": {},
   "outputs": [],
   "source": [
    "class Session:\n",
    "    def __init__(self):\n",
    "        self.startTime = 0\n",
    "        self.stopTime = 0\n",
    "        self.requests = []\n",
    "        \n",
    "    def __repr__(self):\n",
    "        print(\"SESSION\")\n",
    "        print(self.startTime)\n",
    "        print(self.stopTime)\n",
    "        STR = \"\"\n",
    "        for r in self.requests:\n",
    "            print(r)\n",
    "            STR += (\"  \" + r.page + \"    \" + str(datetime.timedelta(seconds=r.time)) + \"\\n\")\n",
    "        return STR\n",
    "\n",
    "class Computer:\n",
    "    def __init__(self):\n",
    "        self.ip = []\n",
    "        self.sessions = []\n",
    "    def __repr__(self):\n",
    "        return self.ip\n",
    "\n",
    "PAGES = [\"Shop.html\", \"AddProduct.html\", \"Summary.html\", \"Payment.html\",\"About.html\", \"Contact.html\"]\n",
    "\n",
    "LINKS = [[1, 4],\n",
    "         [2,4],\n",
    "         [3],\n",
    "         [],\n",
    "         [1,5],\n",
    "         []]\n"
   ]
  },
  {
   "cell_type": "code",
   "execution_count": 6,
   "metadata": {},
   "outputs": [],
   "source": [
    "# 3.1 the number of sessions (should be 1000 :)\n",
    "\n",
    "allSessions = []\n",
    "threshold = 301        # min na sesje - roznica z pierwszym w sesji\n",
    "one_page = 61          #threshold for one page - roznica z ostatnim w biezacej sesji\n",
    "added = False\n",
    "\n",
    "\n",
    "for request in reqs:\n",
    "    added = False\n",
    "    if len(allSessions) != 0 :\n",
    "        for currentSession in allSessions:\n",
    "            if request.time - currentSession.startTime <= threshold:\n",
    "                if request.time - currentSession.requests[-1].time <= one_page:\n",
    "                    for myRequest in currentSession.requests:\n",
    "                        if request.page == myRequest.page or request.page in LINKS[PAGES.index(myRequest.page)]:   \n",
    "                            currentSession.requests.append(request)\n",
    "                            currentSession.stopTime = request.time\n",
    "                            added = True \n",
    "                            break\n",
    "                            \n",
    "    if added == False or len(allSessions) == 0:                    \n",
    "        currentSession = Session()\n",
    "        currentSession.requests.append(request)\n",
    "        currentSession.startTime = request.time\n",
    "        currentSession.stopTime = request.time\n",
    "        allSessions.append(currentSession)"
   ]
  },
  {
   "cell_type": "code",
   "execution_count": 7,
   "metadata": {},
   "outputs": [
    {
     "name": "stdout",
     "output_type": "stream",
     "text": [
      "999\n"
     ]
    }
   ],
   "source": [
    "print(len(allSessions))\n",
    "#for session in allSessions:\n",
    "    #print(session.stopTime)"
   ]
  },
  {
   "cell_type": "code",
   "execution_count": 8,
   "metadata": {},
   "outputs": [
    {
     "name": "stdout",
     "output_type": "stream",
     "text": [
      "391\n"
     ]
    }
   ],
   "source": [
    "# 3.2 the number of users\n",
    "users = []\n",
    "computers = []   #dwa tylko po to, żeby łatwiej było posortować i sprawdzić, computers przyda się potem\n",
    "\n",
    "for l in range(len(reqs)): \n",
    "    if reqs[l].ip not in users:\n",
    "        computer = Computer()\n",
    "        computer.ip = reqs[l].ip \n",
    "        computers.append(computer)\n",
    "        users.append(reqs[l].ip)\n",
    "        \n",
    "users.sort()\n",
    "print(len(users))"
   ]
  },
  {
   "cell_type": "code",
   "execution_count": 9,
   "metadata": {},
   "outputs": [
    {
     "data": {
      "text/plain": [
       "2.554987212276215"
      ]
     },
     "execution_count": 9,
     "metadata": {},
     "output_type": "execute_result"
    }
   ],
   "source": [
    "# 3.3) the average number of sessions per one user\n",
    "averagePerUser = len(allSessions) / len(users)\n",
    "averagePerUser"
   ]
  },
  {
   "cell_type": "code",
   "execution_count": 10,
   "metadata": {},
   "outputs": [
    {
     "data": {
      "text/plain": [
       "[]"
      ]
     },
     "execution_count": 10,
     "metadata": {},
     "output_type": "execute_result"
    },
    {
     "data": {
      "image/png": "[encoded data removed]",
      "text/plain": [
       "<Figure size 432x288 with 1 Axes>"
      ]
     },
     "metadata": {
      "needs_background": "light"
     },
     "output_type": "display_data"
    }
   ],
   "source": [
    "# 3.4) use the distribution plot to visualize the sessions' lengths (minutes);\n",
    "#plot distribution\n",
    "data = [(session.stopTime - session.startTime)/60 for session in allSessions]\n",
    "count, bins, ignored = plt.hist(data, 50, alpha=0.5, density=True)\n",
    "plt.plot()"
   ]
  },
  {
   "cell_type": "code",
   "execution_count": 11,
   "metadata": {},
   "outputs": [
    {
     "data": {
      "text/plain": [
       "[]"
      ]
     },
     "execution_count": 11,
     "metadata": {},
     "output_type": "execute_result"
    },
    {
     "data": {
      "image/png": "[encoded data removed]",
      "text/plain": [
       "<Figure size 432x288 with 1 Axes>"
      ]
     },
     "metadata": {
      "needs_background": "light"
     },
     "output_type": "display_data"
    }
   ],
   "source": [
    "# 3.5) use the distribution plot to visualize the sessions' lengths (the number of requests)\n",
    "data = [len(session.requests) for session in allSessions]\n",
    "count, bins, ignored = plt.hist(data, 50, alpha=0.5, density=True)\n",
    "plt.plot()"
   ]
  },
  {
   "cell_type": "code",
   "execution_count": 12,
   "metadata": {},
   "outputs": [
    {
     "data": {
      "text/plain": [
       "[]"
      ]
     },
     "execution_count": 12,
     "metadata": {},
     "output_type": "execute_result"
    },
    {
     "data": {
      "image/png": "[encoded data removed]",
      "text/plain": [
       "<Figure size 432x288 with 1 Axes>"
      ]
     },
     "metadata": {
      "needs_background": "light"
     },
     "output_type": "display_data"
    }
   ],
   "source": [
    "# 3.6) use the distribution plot to visualize sessions' starting times (hours).\n",
    "data = [session.startTime / 3600 for session in allSessions]\n",
    "count, bins, ignored = plt.hist(data, 50, alpha=0.5, density=True)\n",
    "plt.plot()"
   ]
  },
  {
   "cell_type": "code",
   "execution_count": 18,
   "metadata": {},
   "outputs": [
    {
     "data": {
      "text/plain": [
       "([<matplotlib.axis.XTick at 0x1afdd53a8d0>,\n",
       "  <matplotlib.axis.XTick at 0x1afdd53a208>,\n",
       "  <matplotlib.axis.XTick at 0x1afdd53a0b8>,\n",
       "  <matplotlib.axis.XTick at 0x1afdd85db00>,\n",
       "  <matplotlib.axis.XTick at 0x1afdd872080>,\n",
       "  <matplotlib.axis.XTick at 0x1afdd872588>],\n",
       " <a list of 6 Text xticklabel objects>)"
      ]
     },
     "execution_count": 18,
     "metadata": {},
     "output_type": "execute_result"
    },
    {
     "data": {
      "image/png": "[encoded data removed]",
      "text/plain": [
       "<Figure size 432x288 with 1 Axes>"
      ]
     },
     "metadata": {
      "needs_background": "light"
     },
     "output_type": "display_data"
    }
   ],
   "source": [
    "# 3.7) which web page is the most common entry point?; \n",
    "#for each page plot the number of times it has been an entry page\n",
    "\n",
    "data = np.zeros((len(PAGES),), dtype=int)\n",
    "pages = PAGES\n",
    "y_pos = np.arange((len(PAGES)))\n",
    "#print(sum(data))\n",
    "for request in reqs:\n",
    "    for session in allSessions:\n",
    "        if session.requests[0] == request:        #element zerowy jest elementem rozpoczecia sesji\n",
    "            data[pages.index(request.page)] += 1\n",
    "    \n",
    "    \n",
    "x_axis = np.arange(len(pages))\n",
    "plt.bar(x_axis, data, align='center', alpha=0.5)\n",
    "plt.xticks(y_pos, pages, rotation=90)\n",
    "#print(sum(data))"
   ]
  },
  {
   "cell_type": "code",
   "execution_count": 19,
   "metadata": {},
   "outputs": [
    {
     "data": {
      "text/plain": [
       "([<matplotlib.axis.XTick at 0x1afdd8facc0>,\n",
       "  <matplotlib.axis.XTick at 0x1afdd8fa320>,\n",
       "  <matplotlib.axis.XTick at 0x1afdd8fa550>,\n",
       "  <matplotlib.axis.XTick at 0x1afdd98de80>,\n",
       "  <matplotlib.axis.XTick at 0x1afdd553390>,\n",
       "  <matplotlib.axis.XTick at 0x1afdd553908>],\n",
       " <a list of 6 Text xticklabel objects>)"
      ]
     },
     "execution_count": 19,
     "metadata": {},
     "output_type": "execute_result"
    },
    {
     "data": {
      "image/png": "[encoded data removed]",
      "text/plain": [
       "<Figure size 432x288 with 1 Axes>"
      ]
     },
     "metadata": {
      "needs_background": "light"
     },
     "output_type": "display_data"
    }
   ],
   "source": [
    "# 3.8) which web page is the most common departure point?; \n",
    "#for each page plot the number of times the user stopped a session while being on this page,\n",
    "\n",
    "data = np.zeros((len(PAGES),), dtype=int)\n",
    "pages = PAGES\n",
    "y_pos = np.arange((len(PAGES)))\n",
    "#print(sum(data))\n",
    "for request in reqs:\n",
    "    for session in allSessions:\n",
    "        if session.requests[-1] == request:       #element -1 bedzie ostatnim elementem sesji\n",
    "            data[pages.index(request.page)] += 1\n",
    "    \n",
    "    \n",
    "x_axis = np.arange(len(pages))\n",
    "plt.bar(x_axis, data, align='center', alpha=0.5)\n",
    "plt.xticks(y_pos, pages, rotation=90)\n",
    "#print(sum(data))"
   ]
  },
  {
   "cell_type": "code",
   "execution_count": 26,
   "metadata": {},
   "outputs": [
    {
     "name": "stdout",
     "output_type": "stream",
     "text": [
      "1795\n"
     ]
    },
    {
     "data": {
      "text/plain": [
       "([<matplotlib.axis.XTick at 0x1afdeac9fd0>,\n",
       "  <matplotlib.axis.XTick at 0x1afdeac9908>,\n",
       "  <matplotlib.axis.XTick at 0x1afdeac9630>,\n",
       "  <matplotlib.axis.XTick at 0x1afdeaf3278>,\n",
       "  <matplotlib.axis.XTick at 0x1afdeaf3710>,\n",
       "  <matplotlib.axis.XTick at 0x1afdeaf3c88>],\n",
       " <a list of 6 Text xticklabel objects>)"
      ]
     },
     "execution_count": 26,
     "metadata": {},
     "output_type": "execute_result"
    },
    {
     "data": {
      "image/png": "[encoded data removed]",
      "text/plain": [
       "<Figure size 432x288 with 1 Axes>"
      ]
     },
     "metadata": {
      "needs_background": "light"
     },
     "output_type": "display_data"
    }
   ],
   "source": [
    "# 3.9) for each page plot the average time the user stayed on this page\n",
    "\n",
    "time = np.zeros((len(PAGES),), dtype=int)\n",
    "numberOfRequest = np.zeros((len(PAGES),), dtype=int)\n",
    "pages = PAGES\n",
    "y_pos = np.arange((len(PAGES)))\n",
    "\n",
    "'''for user in computers:\n",
    "    for session in allSessions:\n",
    "        for sessionRequest in session.requests:\n",
    "            if sessionRequest.ip == user.ip and session not in user.sessions:\n",
    "                user.sessions.append(session)\n",
    "                break\n",
    "\n",
    "                \n",
    "for computer in computers:\n",
    "    for session in sessions:\n",
    "        time[PAGES.index(session.page)]\n",
    "print(computers[0].sessions)        \n",
    "\n",
    "#ta lista na koncu jest tym czego potrzebujemy - jak do niej dotrzec???\n",
    "#jak posortowac ja wzgledem czasu???'''\n",
    "\n",
    "for session in allSessions:\n",
    "    for requestIndex in range(1, len(session.requests)):    #zebysmy mieli co odjac\n",
    "        if session.requests[requestIndex].page == session.requests[requestIndex - 1].page:\n",
    "            time[PAGES.index(session.requests[requestIndex].page)] = session.requests[requestIndex].time - session.requests[requestIndex - 1].time\n",
    "            numberOfRequest[PAGES.index(session.requests[requestIndex].page)] += 1\n",
    "#print(sum(numberOfRequest))  # tu mi się coś nie zgadza, ale nie wiem, czy powinno \n",
    "\n",
    "data = time / numberOfRequest\n",
    "x_axis = np.arange(len(pages))\n",
    "plt.bar(x_axis, data, align='center', alpha=0.5)\n",
    "plt.xticks(y_pos, pages, rotation=90)"
   ]
  },
  {
   "cell_type": "code",
   "execution_count": 25,
   "metadata": {},
   "outputs": [
    {
     "name": "stdout",
     "output_type": "stream",
     "text": [
      "SESSION\n",
      "40389\n",
      "40389\n",
      "156.15.13.173      11:13:09 -> AddProduct.html\n",
      "  AddProduct.html    11:13:09\n",
      "\n",
      "SESSION\n",
      "40687\n",
      "40687\n",
      "176.247.135.49      11:18:07 -> Shop.html\n",
      "  Shop.html    11:18:07\n",
      "\n",
      "SESSION\n",
      "40745\n",
      "40745\n",
      "176.247.135.49      11:19:05 -> AddProduct.html\n",
      "  AddProduct.html    11:19:05\n",
      "\n",
      "SESSION\n",
      "41345\n",
      "41345\n",
      "176.247.135.49      11:29:05 -> Summary.html\n",
      "  Summary.html    11:29:05\n",
      "\n",
      "SESSION\n",
      "42189\n",
      "42189\n",
      "69.84.30.199      11:43:09 -> Shop.html\n",
      "  Shop.html    11:43:09\n",
      "\n",
      "SESSION\n",
      "42306\n",
      "42365\n",
      "69.84.30.199      11:45:06 -> AddProduct.html\n",
      "57.116.45.120      11:46:05 -> AddProduct.html\n",
      "  AddProduct.html    11:45:06\n",
      "  AddProduct.html    11:46:05\n",
      "\n",
      "SESSION\n",
      "42606\n",
      "42606\n",
      "69.84.30.199      11:50:06 -> Summary.html\n",
      "  Summary.html    11:50:06\n",
      "\n",
      "SESSION\n",
      "42728\n",
      "42728\n",
      "69.84.30.199      11:52:08 -> Payment.html\n",
      "  Payment.html    11:52:08\n",
      "\n",
      "SESSION\n",
      "42781\n",
      "42781\n",
      "26.19.183.202      11:53:01 -> AddProduct.html\n",
      "  AddProduct.html    11:53:01\n",
      "\n",
      "SESSION\n",
      "42785\n",
      "42785\n",
      "57.116.45.120      11:53:05 -> Summary.html\n",
      "  Summary.html    11:53:05\n",
      "\n"
     ]
    }
   ],
   "source": [
    "# 3.10) print the fist 10 sessions (paths).\n",
    "for index in range(0, 10):\n",
    "    print(allSessions[index])"
   ]
  },
  {
   "cell_type": "code",
   "execution_count": null,
   "metadata": {},
   "outputs": [],
   "source": []
  }
 ],
 "metadata": {
  "kernelspec": {
   "display_name": "Python 3",
   "language": "python",
   "name": "python3"
  },
  "language_info": {
   "codemirror_mode": {
    "name": "ipython",
    "version": 3
   },
   "file_extension": ".py",
   "mimetype": "text/x-python",
   "name": "python",
   "nbconvert_exporter": "python",
   "pygments_lexer": "ipython3",
   "version": "3.6.0"
  }
 },
 "nbformat": 4,
 "nbformat_minor": 2
}
